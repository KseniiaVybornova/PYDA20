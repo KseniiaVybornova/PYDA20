{
 "cells": [
  {
   "cell_type": "markdown",
   "metadata": {},
   "source": [
    "Задание 6 (необязательно)\n",
    "Дана книга рецептов с информацией о том, сколько ингредиентов нужно для приготовления блюда в расчете на одну порцию (пример данных представлен ниже).\n",
    "Напишите программу, которая будет запрашивать у пользователя количество порций для приготовления этих блюд и отображать информацию о суммарном количестве требуемых ингредиентов в указанном виде.\n",
    "Внимание! Одинаковые ингридиенты с разными размерностями нужно считать раздельно!"
   ]
  },
  {
   "cell_type": "code",
   "execution_count": 197,
   "metadata": {},
   "outputs": [],
   "source": [
    "cook_book = {\n",
    "  'салат': [\n",
    "     {'ingridient_name': 'сыр', 'quantity': 50, 'measure': 'гр'},\n",
    "     {'ingridient_name': 'томаты', 'quantity': 2, 'measure': 'шт'},\n",
    "     {'ingridient_name': 'огурцы', 'quantity': 20, 'measure': 'гр'},\n",
    "     {'ingridient_name': 'маслины', 'quantity': 10, 'measure': 'гр'},\n",
    "     {'ingridient_name': 'оливковое масло', 'quantity': 20, 'measure': 'мл'},\n",
    "     {'ingridient_name': 'салат', 'quantity': 10, 'measure': 'гр'},\n",
    "     {'ingridient_name': 'перец', 'quantity': 20, 'measure': 'гр'}\n",
    "    ],\n",
    "  'пицца': [\n",
    "     {'ingridient_name': 'сыр', 'quantity': 20, 'measure': 'гр'},\n",
    "     {'ingridient_name': 'колбаса', 'quantity': 30, 'measure': 'гр'},\n",
    "     {'ingridient_name': 'бекон', 'quantity': 30, 'measure': 'гр'},\n",
    "     {'ingridient_name': 'оливки', 'quantity': 10, 'measure': 'гр'},\n",
    "     {'ingridient_name': 'томаты', 'quantity': 20, 'measure': 'гр'},\n",
    "     {'ingridient_name': 'тесто', 'quantity': 100, 'measure': 'гр'},   \n",
    "        ],\n",
    "  'лимонад': [\n",
    "     {'ingridient_name': 'лимон', 'quantity': 1, 'measure': 'шт'},\n",
    "     {'ingridient_name': 'вода', 'quantity': 200, 'measure': 'мл'},\n",
    "     {'ingridient_name': 'сахар', 'quantity': 10, 'measure': 'гр'},\n",
    "     {'ingridient_name': 'лайм', 'quantity': 20, 'measure': 'гр'},    \n",
    "    ]\n",
    "}"
   ]
  },
  {
   "cell_type": "code",
   "execution_count": 198,
   "metadata": {},
   "outputs": [
    {
     "name": "stdout",
     "output_type": "stream",
     "text": [
      "How many servings of lunch will you cook? 4\n"
     ]
    }
   ],
   "source": [
    "portions = int(input(\"How many servings of lunch will you cook? \"))"
   ]
  },
  {
   "cell_type": "code",
   "execution_count": 199,
   "metadata": {},
   "outputs": [],
   "source": [
    "ingridients_list = sum(list(cook_book.values()), [])\n",
    "shopping_list = {}\n",
    "shopping_list_double = {}\n",
    "shopped_products = []\n",
    "measure_check = {}\n",
    "for product in ingridients_list:\n",
    "    if product['ingridient_name'] not in shopped_products:\n",
    "        shopping_list.update({product['ingridient_name']: [product['quantity'], product['measure']]})\n",
    "        shopped_products.append(product['ingridient_name'])\n",
    "        measure_check.update({product['ingridient_name']: [product['measure']]})\n",
    "    elif product['measure'] not in list(measure_check[product['ingridient_name']]):\n",
    "            shopping_list_double.update({product['ingridient_name']: [product['quantity'] ,product['measure']]})\n",
    "            measure_check[product['ingridient_name']].append(product['measure'])\n",
    "    else:\n",
    "        shopping_list[product['ingridient_name']][0] = shopping_list[product['ingridient_name']][0] + product['quantity']    "
   ]
  },
  {
   "cell_type": "code",
   "execution_count": 200,
   "metadata": {},
   "outputs": [
    {
     "name": "stdout",
     "output_type": "stream",
     "text": [
      "Your shopping list:\n",
      "сыр: 280, гр\n",
      "томаты: 8, шт\n",
      "огурцы: 80, гр\n",
      "маслины: 40, гр\n",
      "оливковое масло: 80, мл\n",
      "салат: 40, гр\n",
      "перец: 80, гр\n",
      "колбаса: 120, гр\n",
      "бекон: 120, гр\n",
      "оливки: 40, гр\n",
      "тесто: 400, гр\n",
      "лимон: 4, шт\n",
      "вода: 800, мл\n",
      "сахар: 40, гр\n",
      "лайм: 80, гр\n",
      "томаты: 80, гр\n"
     ]
    }
   ],
   "source": [
    "print(\"Your shopping list:\")\n",
    "for item, value  in shopping_list.items():\n",
    "    print(\"{0}: {1}, {2}\".format(item, value[0] * portions, value[1]))\n",
    "for item, value  in shopping_list_double.items():\n",
    "    print(\"{0}: {1}, {2}\".format(item, value[0] * portions, value[1]))"
   ]
  }
 ],
 "metadata": {
  "kernelspec": {
   "display_name": "Python 3",
   "language": "python",
   "name": "python3"
  },
  "language_info": {
   "codemirror_mode": {
    "name": "ipython",
    "version": 3
   },
   "file_extension": ".py",
   "mimetype": "text/x-python",
   "name": "python",
   "nbconvert_exporter": "python",
   "pygments_lexer": "ipython3",
   "version": "3.8.5"
  }
 },
 "nbformat": 4,
 "nbformat_minor": 4
}
