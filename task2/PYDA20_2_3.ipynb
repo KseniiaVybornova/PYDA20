{
 "cells": [
  {
   "cell_type": "markdown",
   "metadata": {},
   "source": [
    "Задание 3\n",
    "Мы делаем MVP dating-сервиса, и у нас есть список парней и девушек.\n",
    "Выдвигаем гипотезу: лучшие рекомендации мы получим, если просто отсортируем имена по алфавиту и познакомим людей с одинаковыми индексами после сортировки! Но мы не будем никого знакомить, если кто-то может остаться без пары:"
   ]
  },
  {
   "cell_type": "code",
   "execution_count": 45,
   "metadata": {},
   "outputs": [],
   "source": [
    "chicos = [\"Hugo\", \"Lucas\", \"Martín\", \"Daniel\", \"Pablo\", \"Mateo\", \"Alejandro\", \"Leo\", \"Manuel\", \"Leo\"]\n",
    "chicas = [\"Lucía\" ,\"Sofía\", \"Martina\", \"María\", \"Paula\", \"Julia\", \"Emma\", \"Valeria\", \"Daniela\", \"Alba\"]"
   ]
  },
  {
   "cell_type": "code",
   "execution_count": 46,
   "metadata": {},
   "outputs": [
    {
     "name": "stdout",
     "output_type": "stream",
     "text": [
      "Ideal couples are:\n",
      "Alejandro and Alba\n",
      "Daniel and Daniela\n",
      "Hugo and Emma\n",
      "Leo and Julia\n",
      "Leo and Lucía\n",
      "Lucas and Martina\n",
      "Manuel and María\n",
      "Martín and Paula\n",
      "Mateo and Sofía\n",
      "Pablo and Valeria\n"
     ]
    }
   ],
   "source": [
    "if len(chicos) == len(chicas):\n",
    "    ideal_chicos = sorted(chicos) \n",
    "    ideal_chicas = sorted(chicas)\n",
    "    print (\"Ideal couples are:\")\n",
    "    for chico, chica in zip(ideal_chicos, ideal_chicas):\n",
    "        print (chico, \"and\", chica)\n",
    "else:\n",
    "    print(\"Someone can be left without a pair\")\n"
   ]
  },
  {
   "cell_type": "code",
   "execution_count": null,
   "metadata": {},
   "outputs": [],
   "source": []
  }
 ],
 "metadata": {
  "kernelspec": {
   "display_name": "Python 3",
   "language": "python",
   "name": "python3"
  },
  "language_info": {
   "codemirror_mode": {
    "name": "ipython",
    "version": 3
   },
   "file_extension": ".py",
   "mimetype": "text/x-python",
   "name": "python",
   "nbconvert_exporter": "python",
   "pygments_lexer": "ipython3",
   "version": "3.8.5"
  }
 },
 "nbformat": 4,
 "nbformat_minor": 4
}
