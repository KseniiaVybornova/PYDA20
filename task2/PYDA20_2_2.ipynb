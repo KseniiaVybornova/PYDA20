{
 "cells": [
  {
   "cell_type": "markdown",
   "metadata": {},
   "source": [
    "Задание 2\n",
    "Напишите программу, которая последовательно запрашивает у пользователя числа (по одному за раз) и после первого нуля выводит сумму всех ранее введенных чисел."
   ]
  },
  {
   "cell_type": "code",
   "execution_count": 5,
   "metadata": {},
   "outputs": [
    {
     "name": "stdout",
     "output_type": "stream",
     "text": [
      "Please enter next number 5\n",
      "Please enter next number 6\n",
      "Please enter next number 0\n",
      "The sum of the numbers entered is 11\n"
     ]
    }
   ],
   "source": [
    "enter_number = int(input(\"Please enter next number \"))\n",
    "summ = 0\n",
    "if enter_number !=0:\n",
    "    while enter_number != 0:\n",
    "        summ = summ + enter_number\n",
    "        enter_number = int(input(\"Please enter next number \"))\n",
    "print(f\"The sum of the numbers entered is {summ}\")"
   ]
  }
 ],
 "metadata": {
  "kernelspec": {
   "display_name": "Python 3",
   "language": "python",
   "name": "python3"
  },
  "language_info": {
   "codemirror_mode": {
    "name": "ipython",
    "version": 3
   },
   "file_extension": ".py",
   "mimetype": "text/x-python",
   "name": "python",
   "nbconvert_exporter": "python",
   "pygments_lexer": "ipython3",
   "version": "3.8.5"
  }
 },
 "nbformat": 4,
 "nbformat_minor": 4
}
