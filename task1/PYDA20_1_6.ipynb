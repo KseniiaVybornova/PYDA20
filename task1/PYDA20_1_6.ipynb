{
 "cells": [
  {
   "cell_type": "markdown",
   "metadata": {},
   "source": [
    "Задание 6 (необязательное) Напишите программу, которая сможет вычислять площади трех фигур (круг, треугольник и прямоугольник). Тип фигуры запрашиваем через пользовательский ввод, после чего делаем запрос характеристик фигуры:\n",
    "если пользователь выбрал круг, запрашиваем его радиус, если треугольник – длины трех его сторон; если прямоугольник – длины двух его сторон."
   ]
  },
  {
   "cell_type": "code",
   "execution_count": 1,
   "metadata": {},
   "outputs": [
    {
     "name": "stdout",
     "output_type": "stream",
     "text": [
      "Enter month type of geometric figure (circle, triangle or rectangle): tiangle\n"
     ]
    }
   ],
   "source": [
    "figure_type = input(\"Enter month type of geometric figure (circle, triangle or rectangle): \")"
   ]
  },
  {
   "cell_type": "code",
   "execution_count": 2,
   "metadata": {},
   "outputs": [],
   "source": [
    "import math\n",
    "figure_area = 0"
   ]
  },
  {
   "cell_type": "code",
   "execution_count": 5,
   "metadata": {},
   "outputs": [
    {
     "name": "stdout",
     "output_type": "stream",
     "text": [
      "Incorrectly entered ticket number\n"
     ]
    }
   ],
   "source": [
    "if figure_type in set([\"circle\", \"triangle\", \"rectangle\"]):\n",
    "    if figure_type == \"circle\":\n",
    "        cir_rad = float(input(\"Enter the radius of the circle: \"))\n",
    "        figure_area = math.pi * (cir_rad ** 2)\n",
    "    elif figure_type == \"rectangle\":\n",
    "        rectangle_a = float(input(\"Enter first side of the rectangle: \"))\n",
    "        rectangle_b = float(input(\"Enter first side of the rectangle: \"))\n",
    "        figure_area = rectangle_a * rectangle_b\n",
    "    elif figure_type == \"triangle\":\n",
    "        triangle_a = float(input(\"Enter first side of the triangle: \"))\n",
    "        triangle_b = float(input(\"Enter second side of the triangle: \"))\n",
    "        triangle_c = float(input(\"Enter third side of the triangle: \"))\n",
    "        if (triangle_a + triangle_b) > triangle_c and (triangle_a + triangle_c) > triangle_b and (triangle_b + triangle_c) > triangle_a:\n",
    "            triangle_p = (triangle_a + triangle_b + triangle_c) / 2\n",
    "            figure_area = (triangle_p * (triangle_p - triangle_a) * (triangle_p - triangle_b) * (triangle_p - triangle_c))\n",
    "        else: print(\"Triangle does not exist\")\n",
    "else: print(\"Incorrectly entered ticket number\")"
   ]
  },
  {
   "cell_type": "code",
   "execution_count": 6,
   "metadata": {},
   "outputs": [],
   "source": [
    "if figure_area > 0:\n",
    "    print (\"The area of the \", figure_type, \"is %.2f\" % (figure_area))"
   ]
  },
  {
   "cell_type": "code",
   "execution_count": null,
   "metadata": {},
   "outputs": [],
   "source": []
  }
 ],
 "metadata": {
  "kernelspec": {
   "display_name": "Python 3",
   "language": "python",
   "name": "python3"
  },
  "language_info": {
   "codemirror_mode": {
    "name": "ipython",
    "version": 3
   },
   "file_extension": ".py",
   "mimetype": "text/x-python",
   "name": "python",
   "nbconvert_exporter": "python",
   "pygments_lexer": "ipython3",
   "version": "3.8.5"
  }
 },
 "nbformat": 4,
 "nbformat_minor": 4
}
