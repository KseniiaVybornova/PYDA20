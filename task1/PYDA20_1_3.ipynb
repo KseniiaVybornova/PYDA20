{
 "cells": [
  {
   "cell_type": "markdown",
   "metadata": {},
   "source": [
    "Задание 3 Необходимо написать программу, которая будет запрашивать у пользователя месяц и дату рождения и выводить соответствующий знак зодиака."
   ]
  },
  {
   "cell_type": "code",
   "execution_count": 52,
   "metadata": {},
   "outputs": [
    {
     "name": "stdout",
     "output_type": "stream",
     "text": [
      "Enter month of birth (Jan, Feb, Mar,..): Feb\n"
     ]
    }
   ],
   "source": [
    "b_month = input(\"Enter month of birth (Jan, Feb, Mar,..): \")"
   ]
  },
  {
   "cell_type": "code",
   "execution_count": 53,
   "metadata": {},
   "outputs": [],
   "source": [
    "months = [\"Jan\", \"Feb\", \"Mar\", \"Apr\", \"May\", \"Jun\", \"Jul\", \"Aug\", \"Sep\", \"Oct\", \"Nov\", \"Dec\"]\n",
    "months31 = [\"Jan\", \"Mar\", \"May\", \"Jul\", \"Aug\", \"Oct\", \"Dec\"]\n",
    "months30 = [\"Apr\", \"Jun\", \"Sep\", \"Nov\"]"
   ]
  },
  {
   "cell_type": "code",
   "execution_count": 54,
   "metadata": {},
   "outputs": [
    {
     "name": "stdout",
     "output_type": "stream",
     "text": [
      "Enter birthday: 5\n"
     ]
    }
   ],
   "source": [
    "if b_month not in set(months):\n",
    "    print(\"Month entered incorrectly\")\n",
    "else:\n",
    "    b_day = int(input(\"Enter birthday: \"))"
   ]
  },
  {
   "cell_type": "code",
   "execution_count": 55,
   "metadata": {},
   "outputs": [],
   "source": [
    "check_day = \"correct\"\n",
    "if b_day < 1:\n",
    "    print(\"Day entered incorrectly\")\n",
    "    check_day = \"incorrect\""
   ]
  },
  {
   "cell_type": "code",
   "execution_count": 56,
   "metadata": {},
   "outputs": [],
   "source": [
    "if b_month in set(months31) and b_day > 31:\n",
    "    print(\"Day entered incorrectly\")\n",
    "    check_day = \"incorrect\"\n",
    "elif b_month in set(months30) and b_day > 30:\n",
    "    print(\"Day entered incorrectly\")\n",
    "    check_day = \"incorrect\"\n",
    "elif b_month ==\"Feb\" and b_day > 29:\n",
    "    print(\"Day entered incorrectly\")\n",
    "    check_day = \"incorrect\""
   ]
  },
  {
   "cell_type": "code",
   "execution_count": 57,
   "metadata": {},
   "outputs": [],
   "source": [
    "sign=\"impossible to define\""
   ]
  },
  {
   "cell_type": "code",
   "execution_count": 58,
   "metadata": {},
   "outputs": [],
   "source": [
    "if b_month == \"Jan\" and check_day == \"correct\":\n",
    "    if 1 <= b_day <= 19:\n",
    "        sign=\"Capricornus\"\n",
    "    else: sign=\"Aquarius\"\n",
    "elif b_month == \"Feb\" and check_day == \"correct\":\n",
    "    if 1 <= b_day <= 18:\n",
    "        sign=\"Aquarius\"\n",
    "    else: sign=\"Pisces\"\n",
    "elif b_month == \"Mar\" and check_day == \"correct\":\n",
    "    if 1<= b_day <= 20:\n",
    "        sign=\"Pisces\"\n",
    "    else: sign=\"Aries\"\n",
    "elif b_month == \"Apr\" and check_day == \"correct\":\n",
    "    if 1 <= b_day <= 19:\n",
    "        sign=\"Aries\"\n",
    "    else: sign=\"Taurus\"\n",
    "elif b_month == \"May\" and check_day == \"correct\":\n",
    "    if 1 <= b_day <= 20:\n",
    "        sign=\"Taurus\"\n",
    "    else: sign=\"Gemini\"\n",
    "elif b_month == \"Jun\" and check_day == \"correct\":\n",
    "    if 1 <= b_day <= 21:\n",
    "        sign=\"Gemini\"\n",
    "    else: sign=\"Cancer\"\n",
    "elif b_month == \"Jul\" and check_day == \"correct\":\n",
    "    if 1 <= b_day <= 22:\n",
    "        sign=\"Cancer\"\n",
    "    else: sign=\"Leo\"\n",
    "elif b_month == \"Aug\" and check_day == \"correct\":\n",
    "    if 1 <= b_day <= 21:\n",
    "        sign=\"Leo\"\n",
    "    else: sign=\"Virgo\"\n",
    "elif b_month == \"Sep\" and check_day == \"correct\":\n",
    "    if 1 <= b_day <= 23:\n",
    "        sign=\"Virgo\"\n",
    "    else: sign=\"Libra\"\n",
    "elif b_month == \"Oct\" and check_day == \"correct\":\n",
    "    if 1 <= b_day <= 23:\n",
    "        sign=\"Libra\"\n",
    "    else: sign=\"Scorpius\"\n",
    "elif b_month == \"Nov\" and check_day == \"correct\":\n",
    "    if 1 <= b_day <= 21:\n",
    "        sign=\"Scorpius\"\n",
    "    else: sign=\"Sagittarius\"\n",
    "elif b_month == \"Dec\" and check_day == \"correct\":\n",
    "    if 1 <= b_day <= 21:\n",
    "        sign=\"Sagittarius\"\n",
    "    else: sign=\"Capricornus \""
   ]
  },
  {
   "cell_type": "code",
   "execution_count": 59,
   "metadata": {},
   "outputs": [
    {
     "name": "stdout",
     "output_type": "stream",
     "text": [
      "Your zodiac sign:  Aquarius\n"
     ]
    }
   ],
   "source": [
    "print(\"Your zodiac sign: \", sign)"
   ]
  }
 ],
 "metadata": {
  "kernelspec": {
   "display_name": "Python 3",
   "language": "python",
   "name": "python3"
  },
  "language_info": {
   "codemirror_mode": {
    "name": "ipython",
    "version": 3
   },
   "file_extension": ".py",
   "mimetype": "text/x-python",
   "name": "python",
   "nbconvert_exporter": "python",
   "pygments_lexer": "ipython3",
   "version": "3.8.5"
  }
 },
 "nbformat": 4,
 "nbformat_minor": 4
}
