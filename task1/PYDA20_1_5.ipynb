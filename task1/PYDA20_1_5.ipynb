{
 "cells": [
  {
   "cell_type": "markdown",
   "metadata": {},
   "source": [
    "Задание 5 (необязательное) Дана переменная, в которой хранится шестизначное число (номер проездного билета). Напишите программу, которая будет определять, является ли данный билет \"счастливым\". Билет считается счастливым, если сумма первых трех цифр совпадает с суммой последних трех цифр номера."
   ]
  },
  {
   "cell_type": "code",
   "execution_count": 7,
   "metadata": {},
   "outputs": [
    {
     "name": "stdout",
     "output_type": "stream",
     "text": [
      "Enter six-digit ticket number: 23451\n"
     ]
    }
   ],
   "source": [
    "h_ticket = input(\"Enter six-digit ticket number: \")"
   ]
  },
  {
   "cell_type": "code",
   "execution_count": 8,
   "metadata": {},
   "outputs": [
    {
     "name": "stdout",
     "output_type": "stream",
     "text": [
      "Incorrectly entered ticket number\n"
     ]
    }
   ],
   "source": [
    "if h_ticket.isdigit() == True and len(h_ticket) == 6:\n",
    "    first_sum = int(h_ticket[0]) + int(h_ticket[1]) + int(h_ticket[2])\n",
    "    last_sum = int(h_ticket[3]) + int(h_ticket[4]) + int(h_ticket[5])\n",
    "    if first_sum == last_sum:\n",
    "        print(\"Hooray! Your ticket is lucky!\")\n",
    "    else: print(\"This is not a lucky ticket\")\n",
    "else: print(\"Incorrectly entered ticket number\")"
   ]
  }
 ],
 "metadata": {
  "kernelspec": {
   "display_name": "Python 3",
   "language": "python",
   "name": "python3"
  },
  "language_info": {
   "codemirror_mode": {
    "name": "ipython",
    "version": 3
   },
   "file_extension": ".py",
   "mimetype": "text/x-python",
   "name": "python",
   "nbconvert_exporter": "python",
   "pygments_lexer": "ipython3",
   "version": "3.8.5"
  }
 },
 "nbformat": 4,
 "nbformat_minor": 4
}
