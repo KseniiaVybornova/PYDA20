{
 "cells": [
  {
   "cell_type": "markdown",
   "metadata": {},
   "source": [
    "Задание 4 Вам нужно написать программу для подбора упаковок по размерам товара. Размеры (ширина, длина, высота) хранятся в переменных (в сантиметрах):\n",
    "Используйте следующие правила:\n",
    "   если каждое из трех измерений менее 15 сантиметров, то выведите на экран \"Коробка №1\"; \n",
    "   если хотя бы одно из измерений больше 15 сантиметров, но менее 50 сантиметров, то выводите \"Коробка №2\";\n",
    "   если длина товара больше 2 метров, то выводите \"Упаковка для лыж\";\n",
    "   во всех остальных случаях выводите \"Стандартная коробка №3\""
   ]
  },
  {
   "cell_type": "code",
   "execution_count": 1,
   "metadata": {},
   "outputs": [
    {
     "name": "stdout",
     "output_type": "stream",
     "text": [
      "Enter width (sm): 45\n"
     ]
    }
   ],
   "source": [
    "width = float(input(\"Enter width (sm): \"))"
   ]
  },
  {
   "cell_type": "code",
   "execution_count": 2,
   "metadata": {},
   "outputs": [
    {
     "name": "stdout",
     "output_type": "stream",
     "text": [
      "Enter length (sm): 1\n"
     ]
    }
   ],
   "source": [
    "length = float(input(\"Enter length (sm): \"))"
   ]
  },
  {
   "cell_type": "code",
   "execution_count": 3,
   "metadata": {},
   "outputs": [
    {
     "name": "stdout",
     "output_type": "stream",
     "text": [
      "Enter height (sm): 15\n"
     ]
    }
   ],
   "source": [
    "height = float(input(\"Enter height (sm): \"))"
   ]
  },
  {
   "cell_type": "code",
   "execution_count": 4,
   "metadata": {},
   "outputs": [
    {
     "name": "stdout",
     "output_type": "stream",
     "text": [
      "Choose box #2\n"
     ]
    }
   ],
   "source": [
    "if width < 15 and length < 15 and height < 15:\n",
    "    print(\"Choose box #1\")\n",
    "elif length > 200 :\n",
    "    print(\"Choose pack for skis\")    \n",
    "elif 15 < width < 50 or 15 < length < 50 or 15 < height < 50:\n",
    "    print(\"Choose box #2\")\n",
    "else:\n",
    "    print(\"Choose box #3\")"
   ]
  }
 ],
 "metadata": {
  "kernelspec": {
   "display_name": "Python 3",
   "language": "python",
   "name": "python3"
  },
  "language_info": {
   "codemirror_mode": {
    "name": "ipython",
    "version": 3
   },
   "file_extension": ".py",
   "mimetype": "text/x-python",
   "name": "python",
   "nbconvert_exporter": "python",
   "pygments_lexer": "ipython3",
   "version": "3.8.5"
  }
 },
 "nbformat": 4,
 "nbformat_minor": 4
}
