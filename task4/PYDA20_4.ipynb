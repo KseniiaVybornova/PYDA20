{
 "cells": [
  {
   "cell_type": "markdown",
   "metadata": {},
   "source": [
    "Вам нужно помочь секретарю автоматизировать работу. Для этого нужно написать программу, которая будет на основе хранимых данных исполнять пользовательские команды.\n",
    "\n",
    "Исходные данные имеют следующую структуру:\n",
    "\n",
    "перечень всех документов\n",
    "documents = [\n",
    " {'type': 'passport', 'number': '2207 876234', 'name': 'Василий Гупкин'},\n",
    " {'type': 'invoice', 'number': '11-2', 'name': 'Геннадий Покемонов'},\n",
    " {'type': 'insurance', 'number': '10006', 'name': 'Аристарх Павлов'}\n",
    "]\n",
    "перечень полок, на которых хранятся документы (если документ есть в documents, то он обязательно должен быть и в directories)\n",
    "directories = {\n",
    " '1': ['2207 876234', '11-2'],\n",
    " '2': ['10006'],\n",
    " '3': []\n",
    "}\n",
    "Общие требования к программе:\n",
    "\n",
    "код должен быть грамотно декомпозирован (каждая функция отвечает за свою конкретную задачу, дублирующийся функционал переиспользуется, а его код не повторяется);\n",
    "в коде отсутствуют глобальные переменные (за исключением documents и directories);\n",
    "пользовательский ввод обрабатывается в цикле while до тех пор, пока пользователь явно не завершит программу (вводом команды \"q\")."
   ]
  },
  {
   "cell_type": "code",
   "execution_count": null,
   "metadata": {},
   "outputs": [],
   "source": [
    "documents = [\n",
    " {'type': 'passport', 'number': '2207 876234', 'name': 'Василий Гупкин'},\n",
    " {'type': 'invoice', 'number': '11-2', 'name': 'Геннадий Покемонов'},\n",
    " {'type': 'insurance', 'number': '10006', 'name': 'Аристарх Павлов'}\n",
    "]\n",
    "directories = {\n",
    " '1': ['2207 876234', '11-2'],\n",
    " '2': ['10006'],\n",
    " '3': []\n",
    "}"
   ]
  },
  {
   "cell_type": "code",
   "execution_count": null,
   "metadata": {},
   "outputs": [],
   "source": [
    "def main(documents_list, directories_list):\n",
    "    print(\"Good morning! Let's start our work together!\")\n",
    "    while True:\n",
    "        user_cmd = input(\"Please enter the command: \")\n",
    "        if user_cmd == 'p':\n",
    "## Пользователь по команде \"p\" может узнать владельца документа по его номеру\n",
    "            user_doc = input(\"Please enter documents number: \")\n",
    "            if number_owner(user_doc) == None:\n",
    "                print(\"Document with this number is not in the database\")\n",
    "            else:\n",
    "                print(\"Owner of this document is \", number_owner(user_doc))\n",
    "        elif user_cmd == 's':\n",
    "## Пользователь по команде \"s\" может по номеру документа узнать на какой полке он хранится\n",
    "            user_doc = input(\"Please enter documents number: \")\n",
    "            if number_directories(user_doc) == None:\n",
    "                print(\"Document with this number is not in the database\")\n",
    "            else:\n",
    "                print(\"The document is stored on shelf number\", number_directories(user_doc))\n",
    "        elif user_cmd == 'l':\n",
    "## Пользователь по команде \"l\" может увидеть полную информацию по всем документам\n",
    "            full_info()\n",
    "        elif user_cmd == 'ads':\n",
    "## Пользователь по команде \"ads\" может добавить новую полку\n",
    "            user_diret = input(\"Please enter directory number: \")\n",
    "            help_base = new_shelf(user_diret)\n",
    "            if help_base == None:\n",
    "                print(\"Directory with this number already exists\")\n",
    "                print (\"Current list of directories: \", list(directories_list.keys()))\n",
    "            else:\n",
    "                print(\"Directory is created. Current list of directories: \", help_base)\n",
    "        elif user_cmd == 'ds':\n",
    "## Пользователь по команде \"ds\" может удалить существующую полку из данных (только если она пустая)\n",
    "            user_diret = input(\"Please enter directory number: \")\n",
    "            help_base = delete_empty_shelf(user_diret)\n",
    "            if help_base == 'non_existent_shelf':\n",
    "                print (\"Directory with this number does not exists. \")\n",
    "                print (\"Current list of directories: \", list(directories_list.keys()))\n",
    "            elif help_base == 'not_empty_shelf':\n",
    "                print(\"This directory is not empty. First you need to delete all documents from it. \")\n",
    "                print(\"Current list of directories: \", list(directories_list.keys()))\n",
    "            else:\n",
    "                print (\"Directory is removed. Current list of directories: \", list(directories.keys()))\n",
    "        elif user_cmd == 'ad':\n",
    "##  Пользователь по команде \"ad\" может добавить новый документ в данные\n",
    "            help_base = add_new_doc()\n",
    "            if help_base == \"number already exist\":\n",
    "                print(\"The document with this number is already exist\")\n",
    "                full_info()\n",
    "            elif help_base == \"direction not exist\":\n",
    "                print(\"Directory with this number does not exists. To add directory you need to use command 'ads'\")\n",
    "                full_info()\n",
    "            else:\n",
    "                print(\"New document added\")\n",
    "                full_info()\n",
    "        elif user_cmd == 'd':\n",
    "##  Пользователь по команде \"d\" может удалить документ из данных\n",
    "            user_doc = input(\"Please enter documents number: \")\n",
    "            help_base = delete_doc(user_doc)\n",
    "            if help_base == \"doc not found\":\n",
    "                print(\"Document with this number is not in the database\")\n",
    "                full_info()\n",
    "            else:\n",
    "                print(\"Document is removed\")\n",
    "                full_info()\n",
    "        elif user_cmd == 'm':\n",
    "##  Пользователь по команде \"m\" может переместить документ с полки на полку\n",
    "            user_doc = input(\"Please enter documents number: \")\n",
    "            user_diret = input(\"Please enter directory number: \")\n",
    "            help_base = change_directory (user_doc, user_diret)\n",
    "            if help_base == \"shelf not found\":\n",
    "                print (\"Directory with this number does not exists. \") \n",
    "                print (\"Current list of directories: \", list(directories_list.keys()))\n",
    "            elif help_base == \"doc not found\":\n",
    "                print(\"Document with this number is not in the database\")\n",
    "                full_info()\n",
    "            else:\n",
    "                print(\"Document is moved to directory \", user_diret)\n",
    "                full_info()\n",
    "        elif user_cmd == 'q':\n",
    "            print(\"Our session is over.\")\n",
    "            False"
   ]
  },
  {
   "cell_type": "markdown",
   "metadata": {},
   "source": [
    "Пункт 1. Пользователь по команде \"p\" может узнать владельца документа по его номеру"
   ]
  },
  {
   "cell_type": "code",
   "execution_count": 3,
   "metadata": {},
   "outputs": [],
   "source": [
    "def number_owner (doc_number, documents_list = documents):\n",
    "    \"\"\"looking for the owner by document number\"\"\"\n",
    "    for docum in documents_list:\n",
    "        if str(docum['number']) == doc_number:\n",
    "            return docum['name']           "
   ]
  },
  {
   "cell_type": "markdown",
   "metadata": {},
   "source": [
    "Пункт 2. Пользователь по команде \"s\" может по номеру документа узнать на какой полке он хранится"
   ]
  },
  {
   "cell_type": "code",
   "execution_count": 4,
   "metadata": {},
   "outputs": [],
   "source": [
    "def number_directories (doc_number, directories_list = directories):\n",
    "    \"\"\"looking for the directiries by document number\"\"\"\n",
    "    for shelf in list(directories_list.keys()):\n",
    "        for doc in directories_list[shelf]:\n",
    "            if str(doc) == str(doc_number):\n",
    "                return shelf                "
   ]
  },
  {
   "cell_type": "markdown",
   "metadata": {},
   "source": [
    "Пункт 3. Пользователь по команде \"l\" может увидеть полную информацию по всем документам"
   ]
  },
  {
   "cell_type": "code",
   "execution_count": 5,
   "metadata": {},
   "outputs": [],
   "source": [
    "def full_info (documents_list = documents, directories_list = directories):\n",
    "    \"\"\"displays complete information on all documents\"\"\"\n",
    "    for docum in documents_list:\n",
    "        for direct_key in directories_list.keys():\n",
    "            if docum['number'] in list(directories_list[direct_key]):\n",
    "                docum['shelf'] = direct_key\n",
    "    print(\"Current list of all documents: \")\n",
    "    for doc in documents_list:   \n",
    "        print(\"№: \", doc['number'], \"type: \", doc['type'], \"owner: \", doc['name'], \"storage shelf:\", doc['shelf'] )    "
   ]
  },
  {
   "cell_type": "markdown",
   "metadata": {},
   "source": [
    "Пункт 4. Пользователь по команде \"ads\" может добавить новую полку"
   ]
  },
  {
   "cell_type": "code",
   "execution_count": 6,
   "metadata": {},
   "outputs": [],
   "source": [
    "def new_shelf (shelf_num, directories_list = directories):\n",
    "    \"\"\"adds a new shelf\"\"\"\n",
    "    if str(shelf_num) not in list(directories_list.keys()):\n",
    "        directories_list.update({str(shelf_num):[]})\n",
    "        return list(directories_list.keys())"
   ]
  },
  {
   "cell_type": "markdown",
   "metadata": {},
   "source": [
    "Пункт 5. Пользователь по команде \"ds\" может удалить существующую полку из данных (только если она пустая)"
   ]
  },
  {
   "cell_type": "code",
   "execution_count": 7,
   "metadata": {},
   "outputs": [],
   "source": [
    "def delete_empty_shelf (shelf_num, directories_list = directories):\n",
    "    \"\"\"removes the shelf if it is empty\"\"\"\n",
    "    if str(shelf_num) not in list(directories_list.keys()):\n",
    "        return 'non_existent_shelf'\n",
    "    elif directories_list[str(shelf_num)] != []:\n",
    "        return 'not_empty_shelf'\n",
    "    else:\n",
    "        del directories_list[str(shelf_num)]"
   ]
  },
  {
   "cell_type": "markdown",
   "metadata": {},
   "source": [
    "Пункт 1. Пользователь по команде \"ad\" может добавить новый документ в данные"
   ]
  },
  {
   "cell_type": "code",
   "execution_count": 8,
   "metadata": {},
   "outputs": [],
   "source": [
    "def add_new_doc (documents_list = documents, directories_list = directories):\n",
    "    \"\"\"adds a new document and its direction\"\"\"\n",
    "    ## all inputs remove to main!!!\n",
    "    new_number = input(\"insert documents number \")\n",
    "    new_type = input(\"insert documents type \")\n",
    "    new_name = input(\"insert owners name \")\n",
    "    new_direction = input(\"insert documents direction \")\n",
    "    for check_num in documents_list:\n",
    "        if check_num['number'] == new_number:\n",
    "            return \"number already exist\"\n",
    "            break\n",
    "    if str(new_direction) not in list(directories_list.keys()):\n",
    "        return \"direction not exist\"\n",
    "    documents_list.append({'type': new_type, 'number': new_number, 'name': new_name})\n",
    "    directories_list[new_direction].append(new_number)\n",
    "    return documents_list, directories_list"
   ]
  },
  {
   "cell_type": "markdown",
   "metadata": {},
   "source": [
    "Пункт 2. Пользователь по команде \"d\" может удалить документ из данных"
   ]
  },
  {
   "cell_type": "code",
   "execution_count": 9,
   "metadata": {},
   "outputs": [],
   "source": [
    "def delete_doc (doc_number, documents_list = documents, directories_list = directories):\n",
    "    \"\"\"removes the document and its direction\"\"\"\n",
    "    check_dir = 0\n",
    "    for check_num in range(len(documents_list)):\n",
    "        if documents_list[check_num]['number'] == str(doc_number):\n",
    "            del documents_list[check_num]\n",
    "            check_dir = 1\n",
    "            break\n",
    "    if check_dir == 1:\n",
    "        directories_list[(number_directories(doc_number))].remove(doc_number)\n",
    "    else:\n",
    "        return \"doc not found\"\n",
    "    return documents_list, directories_list"
   ]
  },
  {
   "cell_type": "markdown",
   "metadata": {},
   "source": [
    "Пункт 3. Пользователь по команде \"m\" может переместить документ с полки на полку"
   ]
  },
  {
   "cell_type": "code",
   "execution_count": 10,
   "metadata": {},
   "outputs": [],
   "source": [
    "def change_directory (doc_number, shelf_number, directories_list = directories):\n",
    "    \"\"\"moves document to other directory\"\"\"\n",
    "    if str(shelf_number) not in list(directories_list):\n",
    "        return \"shelf not found\"\n",
    "    elif str(doc_number) not in sum(list(directories.values()), []):\n",
    "            return \"doc not found\"\n",
    "    else:\n",
    "        directories_list[(number_directories(doc_number))].remove(doc_number)\n",
    "        directories_list[shelf_number].append(doc_number)\n",
    "        return directories_list    "
   ]
  },
  {
   "cell_type": "code",
   "execution_count": null,
   "metadata": {},
   "outputs": [
    {
     "name": "stdout",
     "output_type": "stream",
     "text": [
      "Good morning! Let's start our work together!\n",
      "Please enter the command: v\n",
      "Please enter the command: ads\n",
      "Please enter directory number: m\n",
      "Directory is created. Current list of directories:  ['1', '2', '3', 'm']\n"
     ]
    }
   ],
   "source": [
    "main(documents, directories)"
   ]
  },
  {
   "cell_type": "code",
   "execution_count": null,
   "metadata": {},
   "outputs": [],
   "source": []
  }
 ],
 "metadata": {
  "kernelspec": {
   "display_name": "Python 3",
   "language": "python",
   "name": "python3"
  },
  "language_info": {
   "codemirror_mode": {
    "name": "ipython",
    "version": 3
   },
   "file_extension": ".py",
   "mimetype": "text/x-python",
   "name": "python",
   "nbconvert_exporter": "python",
   "pygments_lexer": "ipython3",
   "version": "3.8.5"
  }
 },
 "nbformat": 4,
 "nbformat_minor": 4
}
