{
 "cells": [
  {
   "cell_type": "code",
   "execution_count": 2,
   "metadata": {},
   "outputs": [],
   "source": [
    "import numpy as np"
   ]
  },
  {
   "cell_type": "markdown",
   "metadata": {},
   "source": [
    "Смоделировать игру против лотерейного автомата типа “777”. Игрок платит 1 руб., после чего выпадает случайное целое число, равномерно распределенное от 0 до 999. При некоторых значениях числа игрок получает выигрыш (см. справа)\n",
    "\n",
    "Выгодна ли игра игроку?\n",
    "\n",
    "Сколько в среднем приобретает\n",
    "или теряет игрок за одну игру?\n",
    "\n",
    "777: 200 руб.\n",
    "999: 100 руб.\n",
    "555: 50 руб.\n",
    "333: 15 руб.\n",
    "111: 10 руб.\n",
    "*77: 5 руб.\n",
    "**7: 3 руб.\n",
    "*00: 2 руб.\n",
    "**0: 1 руб.\n",
    "\n",
    "* любая цифра\n",
    "Дополнительное задание повышенной сложности. Теоретически рассчитать средний выигрыш (проигрыш) и сравнить с результатами моделирования"
   ]
  },
  {
   "cell_type": "code",
   "execution_count": 47,
   "metadata": {},
   "outputs": [
    {
     "name": "stdout",
     "output_type": "stream",
     "text": [
      "10000000 0.7990495\n"
     ]
    }
   ],
   "source": [
    "games = 10000000    # Количество попыток\n",
    "jackpot = 0    # сумма выигрыша\n",
    "\n",
    "for i in range(games):\n",
    "    random_score = np.random.randint(0, 1000)    # Случайное число от 0 до 999\n",
    "    if random_score == 777:\n",
    "        jackpot += 200\n",
    "    elif random_score == 999:\n",
    "        jackpot += 100\n",
    "    elif random_score == 555:\n",
    "        jackpot += 50\n",
    "    elif random_score == 333:\n",
    "        jackpot += 15\n",
    "    elif random_score == 111:\n",
    "        jackpot += 10\n",
    "    elif (random_score % 100) == 77:\n",
    "        jackpot += 5\n",
    "    elif (random_score % 100) == 0:\n",
    "        jackpot += 2\n",
    "    elif ((random_score % 10) == 7) :\n",
    "        jackpot += 3\n",
    "    elif (random_score % 10) == 0 :\n",
    "        jackpot += 1\n",
    "        \n",
    "p_monte_carlo = jackpot / games    # средний выигрыш (без учета потраченного на игру) из моделирования\n",
    "\n",
    "print(games, p_monte_carlo)"
   ]
  },
  {
   "cell_type": "code",
   "execution_count": 50,
   "metadata": {},
   "outputs": [
    {
     "name": "stdout",
     "output_type": "stream",
     "text": [
      "0.796 0.7999999999999999\n"
     ]
    }
   ],
   "source": [
    "# Теоретическая вероятность\n",
    "\n",
    "# вероятности выигрыша 200, 100, 50, 15, 10 руб равны и равны 0.001\n",
    "P_big = 1 / 1000\n",
    "# вероятность выигрыша 5 руб *77\n",
    "P_5 = 9 / 1000\n",
    "# вероятность выигрыша 3 руб *7\n",
    "P_3 = 9 / 100\n",
    "# вероятность выигрыша 2 руб *00. считаем, что \"0\" отображается как \"000\"\n",
    "P_2 = 1 / 100\n",
    "# вероятность выигрыша 1 руб *0\n",
    "P_1 = 9 / 100\n",
    "#вероятность ничего не выиграть\n",
    "P_0 = 1 - (5 * P_big + P_5 + P_3 + P_2 + P_1)\n",
    "# математическое ожидание выигрыша (без учета потраченного на игру) \n",
    "M = (200 + 100 + 50 + 15 + 10 ) * P_big + 5 * P_5 + 3 * P_3 + 2 * P_2 + 1 * P_1 + 0 * P_0\n",
    "print (P_0, M )"
   ]
  },
  {
   "cell_type": "code",
   "execution_count": null,
   "metadata": {},
   "outputs": [],
   "source": [
    "# на основе опытного и теоретического результатов делаем  вывод, \n",
    "# что в среднем за 1 попытку игрок теряет 20 копеек. Игра не выгодна"
   ]
  }
 ],
 "metadata": {
  "kernelspec": {
   "display_name": "Python 3",
   "language": "python",
   "name": "python3"
  },
  "language_info": {
   "codemirror_mode": {
    "name": "ipython",
    "version": 3
   },
   "file_extension": ".py",
   "mimetype": "text/x-python",
   "name": "python",
   "nbconvert_exporter": "python",
   "pygments_lexer": "ipython3",
   "version": "3.8.5"
  }
 },
 "nbformat": 4,
 "nbformat_minor": 4
}
